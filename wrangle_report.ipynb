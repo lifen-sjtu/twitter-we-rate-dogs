{
 "cells": [
  {
   "cell_type": "markdown",
   "metadata": {},
   "source": [
    "# Data Wrangling Report  \n",
    "\n",
    "- Gathering Data\n",
    "- Accessing Data\n",
    "- Cleaning Data"
   ]
  },
  {
   "cell_type": "markdown",
   "metadata": {},
   "source": [
    "## Gathering Data"
   ]
  },
  {
   "cell_type": "markdown",
   "metadata": {},
   "source": [
    "There are there different kinds of data source I've gathered. \n",
    "- twitter_archive_enhanced.csv, provided in Udacity project introduction and can be downloaded manually.\n",
    "- image_predictions.tsv, hosted on Udacity servers and Students are required to download it programmatically by url\n",
    " - Leverage request library to gather data\n",
    " - How to gather image_predictions.tsv from url, and make it to pandas DataFrame, related [link](https://stackoverflow.com/questions/32400867/pandas-read-csv-from-url)\n",
    "- tweet_additional_data,like each tweet's retweet count and favorite (\"like\") count.\n",
    " - Leverage Python's Tweepy library to gather data"
   ]
  },
  {
   "cell_type": "markdown",
   "metadata": {},
   "source": [
    "## Accessing Data"
   ]
  },
  {
   "cell_type": "markdown",
   "metadata": {},
   "source": [
    "For the part of accessing data, I've used visual assessment and programmatic assessment together to detecting Data Quality Issues and Tidiness Issues. The issues I detected are in the following:\n"
   ]
  },
  {
   "cell_type": "markdown",
   "metadata": {},
   "source": [
    "### Quality Issues:\n",
    "\n",
    "twitter_archive_enhanced \n",
    " - timestamp related columns should be datatime data type\n",
    " - The 'None' values of name,doggo,floofer,pupper,puppo are supposed in NaN format\n",
    " - retweeted_status_id,retweeted_status_user_id, in_reply_to_status_id,in_reply_to_user_id are float type(due to the None value, pandas will recast it to float when we make it a DataFrame), which are supposed to be int type\n",
    " - Some records get wrong rating_numerator and rating_denominator from text, e.g. take 9/11 (date) from text as dog rate\n",
    " - There are some inconsistent dog rate like 99/90,165/150  \n",
    " - Get the wrong name of dogs from text, e.g. 'a','an','the','very','incredible','not'\n",
    " - content of source column is in html format, we only need the text part for analytical purpose\n",
    " - some records have two dog stages\n",
    " \n",
    "image_predictions \n",
    " - Content of p1,p2,p3 not in unified format(lowercase and uppercase)\n",
    " - Content of p1,p2,p3 use different delimiters like '_' and '-'"
   ]
  },
  {
   "cell_type": "markdown",
   "metadata": {},
   "source": [
    "### Tidiness Issues:\n",
    "\n",
    "twitter_archive_enhanced \n",
    " - tweet_id column contains three kinds of tweets like original tweets, in-reply tweets and retweets. \n",
    " - retweeted_status_id,retweeted_status_user_id, retweeted_status_timestamp,in_reply_to_status_id,in_reply_to_user_id columns should be removed \n",
    " - doggo,floofer,pupper,puppo should merge into one column describing the dog stages\n",
    "\n",
    "tweet_additional_data\n",
    " - tweet_additional_data should be part of twitter_archive_enhanced table\n",
    " \n",
    "image_predictions tabel\n",
    " - image_predictions should be part of twitter_archive_enhanced"
   ]
  },
  {
   "cell_type": "markdown",
   "metadata": {},
   "source": [
    "## Cleaning Data"
   ]
  },
  {
   "cell_type": "markdown",
   "metadata": {},
   "source": [
    "Data Cleaning is a pretty time consuming part among the data wrangling process. For each issue I've detected in the data assessing step, I use the define, code, and test steps taught in udacity class to help the cleaning process to be clear and efficient. And the specific code is in the corresponding jupyter notebook."
   ]
  }
 ],
 "metadata": {
  "kernelspec": {
   "display_name": "Python 3",
   "language": "python",
   "name": "python3"
  },
  "language_info": {
   "codemirror_mode": {
    "name": "ipython",
    "version": 3
   },
   "file_extension": ".py",
   "mimetype": "text/x-python",
   "name": "python",
   "nbconvert_exporter": "python",
   "pygments_lexer": "ipython3",
   "version": "3.6.4"
  }
 },
 "nbformat": 4,
 "nbformat_minor": 2
}
