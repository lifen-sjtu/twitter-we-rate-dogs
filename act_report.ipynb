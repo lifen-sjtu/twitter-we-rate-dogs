{
 "cells": [
  {
   "cell_type": "markdown",
   "metadata": {},
   "source": [
    "# Data Analyzing Report"
   ]
  },
  {
   "cell_type": "markdown",
   "metadata": {},
   "source": [
    "For the data analyzing process, I ask myself three question I'm most curious about the WeRateDogs twitter data.\n",
    "- The first question is related to 'They are good dog Brent' event, brant tweets WeRateDogs to say,\"you give every dog 11s and 12s, it dosen't even make any sense.\" So my question is, does WeRateDogs acctually give most of the dogs 11s and 12s?\n",
    "<img src=\"images/good-dogs.png\" width=\"50%\">\n",
    "Conclusion:\n",
    "- Based on our first insight, WeRateDogs usually give dogs over 10 because they are good dogs, so is it possible that tweets with higher rate(which also means dogs are cuter under WeRateDogs rating system) are more likely to get higher favorite count and retweet count?\n",
    "- The last question is about the growth of WeRateDogs over time. To be more specific, has WeRateDogs account been able to get an increase in followers, favorite count and retweet_count month by month? Is there any problem WeRateDogs should take into consideration if they wants to increase the account's impact across the Internet."
   ]
  },
  {
   "cell_type": "markdown",
   "metadata": {},
   "source": [
    "## First Insight"
   ]
  },
  {
   "cell_type": "markdown",
   "metadata": {},
   "source": [
    "In order to answer the first question, \n",
    "- At first I calulate the total number of posted tweets for each score and display this result in the following pie chart.\n",
    "<img src=\"images/score-pie.png\" width=\"50%\">"
   ]
  },
  {
   "cell_type": "markdown",
   "metadata": {},
   "source": [
    "- Then I plot the distribution of scores over time to identify the trend of WeRateDogs giving scores \n",
    "<img src=\"images/score-scatter\" width=\"70%\">"
   ]
  },
  {
   "cell_type": "markdown",
   "metadata": {},
   "source": [
    "Conclusion:\n",
    "- As we can see from pie chart, the most frequent scores WeRateDogs have given is 12s, 10s,11s, and they acount for 23.37%,20.84%,19.98% corresponding, 12s and 11s acount for 43.35% in total. Based on the statistical result, we cannot say that WeRateDogs give the most 12s and 11s, since the percent is under 50%. However, I think what brant means it's WeRateDogs usually give dogs scores over 10, and the chance we see scores like 13/10,12/10,11/10,10/10 is actually reaching 77.92% which it's a pretty high frequency. \n",
    "- Another interesting thing we can find in 'Score Over Time' plot is WeRateDogs barely gave score under 10 after 2016-10, and 'they are good dogs Brent' tweet was posted on 09-12-2016! Before 2016-10 WeRateDogs did give some scores under 10 and after that time WeRateDogs actually convert his rating system to give every dog over 10, because they are good dogs *^o^* ! "
   ]
  },
  {
   "cell_type": "markdown",
   "metadata": {},
   "source": [
    "## Second Insight"
   ]
  },
  {
   "cell_type": "markdown",
   "metadata": {},
   "source": [
    "- For the second question, the metric that I use for analysis is the mean number of favorite_count and retweet_count, and some scores that only ocurred once (outlier) would not be taken into consideration. \n",
    "<img src=\"images/num-tweets-score\" width=\"50%\"/> <img src=\"images/num-fav-score.png\" width=\"50%\"/>"
   ]
  },
  {
   "cell_type": "markdown",
   "metadata": {},
   "source": [
    "Conclusion:\n",
    "- Based on the plots above, although the relationship between score and favorite count/retweet count is not clear when score is under 10, we actually can tell that when score is over 10, the favorite count and retweet count increase rapidly as score goes up. And we can see that scores over 10 get higher favorite count and retweet count comparing to scores under 10 if we remove score 1. Since score 1/10 only appeared 4 times, I dig deeper to see what's these four tweets like, it turns out three of them are not dogs, and it's pretty hilarious when we see no-dog pictures with WeRateDogs's comments, it's rare and also funny but it's not related to this insight we analyze. At last, considering the first insight we've already got, we know that scores like 10/10,11/10,12/10,13/10,14/10 accounts for 80% of the whole sample data. So it makes sense for us to say that tweets with higher rate are more likely to get higher favorite count and retweet count."
   ]
  },
  {
   "cell_type": "markdown",
   "metadata": {},
   "source": [
    "## Third Insight"
   ]
  },
  {
   "cell_type": "markdown",
   "metadata": {},
   "source": [
    "- since we don't have historical data about followers number of WeRateDogs, I'll use mean number of favorite count and retweet_count for each month as the metric to measure the growth of WeRateDogs account.\n",
    "<img src=\"images/num-tweets.png\" width=\"50%\"/> <img src=\"images/num-fav.png\" width=\"50%\"/>"
   ]
  },
  {
   "cell_type": "markdown",
   "metadata": {},
   "source": [
    "Conclusion:\n",
    "- As we can see from last plot above, the mean number of tweet's favorite count and retweet count kept increasing over time, but the growth rate of retweet count is slower than that of favorite count. The mean number of favorite and retweet started at 1276 and 546 at 2015-11, and finally they got 32563,7055 at 2017-07 seperately. The mean number of favorite and retweet increased 24.52 and 11.92 times from 2015-11 to 2017-07. \n",
    "- After I got these result, I did some more search about favorites and retweets. And I get to know that they are both effective measures of Twitter engagement by determining interests and preferences among followers. But beneath the surface, retweets imply a reach that extends far beyond current followers in a way that can’t be achieved through favorites,[related link](https://medium.com/@Encore/favorites-vs-retweets-and-why-one-is-more-important-than-the-other-ba12ee20e9ba). So I think the next step that WeRateDogs should give more consideration to is how to maximize the number of retweets each post receives to connect with a broader audience beyond immediate followers"
   ]
  }
 ],
 "metadata": {
  "kernelspec": {
   "display_name": "Python 3",
   "language": "python",
   "name": "python3"
  },
  "language_info": {
   "codemirror_mode": {
    "name": "ipython",
    "version": 3
   },
   "file_extension": ".py",
   "mimetype": "text/x-python",
   "name": "python",
   "nbconvert_exporter": "python",
   "pygments_lexer": "ipython3",
   "version": "3.6.3"
  }
 },
 "nbformat": 4,
 "nbformat_minor": 2
}
