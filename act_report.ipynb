{
 "cells": [
  {
   "cell_type": "markdown",
   "metadata": {},
   "source": [
    "# Data Analyzing Report"
   ]
  },
  {
   "cell_type": "markdown",
   "metadata": {},
   "source": [
    "For the data analyzing process, I ask myself three question I'm most curious about the WeRateDogs twitter data.\n",
    "- The first question is related to 'They are good dog Brent' event, brant tweets WeRateDogs to say,\"you give every dog 11s and 12s, it dosen't even make any sense.\" So my question is, does WeRateDogs acctually give most of the dogs 11s and 12s?\n",
    "- Based on our first insight, WeRateDogs usually give dogs over 10 because they are good dogs, so is it possible that tweets with higher rate(which also means dogs are cuter under WeRateDogs rating system) are more likely to get higher favorite count and retweet count?\n",
    "- The last question is about the growth of WeRateDogs over time. To be more specific, has WeRateDogs account been able to get an increase in followers, favorite count and retweet_count month by month? Is there any problem WeRateDogs should take into consideration if they wants to increase the account's impact across the Internet."
   ]
  },
  {
   "cell_type": "markdown",
   "metadata": {},
   "source": [
    "## First Insight"
   ]
  },
  {
   "cell_type": "markdown",
   "metadata": {},
   "source": [
    "<img src=\"good-dogs.png\" width=\"50%\">"
   ]
  },
  {
   "cell_type": "markdown",
   "metadata": {},
   "source": [
    "## Second Insight"
   ]
  },
  {
   "cell_type": "markdown",
   "metadata": {},
   "source": [
    "## Third Insight"
   ]
  },
  {
   "cell_type": "code",
   "execution_count": null,
   "metadata": {},
   "outputs": [],
   "source": []
  }
 ],
 "metadata": {
  "kernelspec": {
   "display_name": "Python 3",
   "language": "python",
   "name": "python3"
  },
  "language_info": {
   "codemirror_mode": {
    "name": "ipython",
    "version": 3
   },
   "file_extension": ".py",
   "mimetype": "text/x-python",
   "name": "python",
   "nbconvert_exporter": "python",
   "pygments_lexer": "ipython3",
   "version": "3.6.4"
  }
 },
 "nbformat": 4,
 "nbformat_minor": 2
}
